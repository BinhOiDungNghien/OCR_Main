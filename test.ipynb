{
 "cells": [
  {
   "cell_type": "code",
   "execution_count": 1,
   "metadata": {},
   "outputs": [],
   "source": [
    "import cv2\n",
    "import matplotlib.pyplot as plt"
   ]
  },
  {
   "cell_type": "markdown",
   "metadata": {},
   "source": [
    "# 1. Inverted Image"
   ]
  },
  {
   "cell_type": "code",
   "execution_count": 3,
   "metadata": {},
   "outputs": [
    {
     "name": "stdout",
     "output_type": "stream",
     "text": [
      "Inverted image saved as inverted_image.png\n"
     ]
    }
   ],
   "source": [
    "# Load the image in grayscale\n",
    "img = cv2.imread('/Users/lengocbinh/Desktop/Koolsoft/OCR_Main/image/1.jpg', cv2.IMREAD_GRAYSCALE)\n",
    "\n",
    "# Invert the image\n",
    "inverted_img = cv2.bitwise_not(img)\n",
    "\n",
    "# Check if the image was loaded successfully\n",
    "if img is None:\n",
    "    print(\"Error: Image could not be loaded.\")\n",
    "else:\n",
    "    # Invert the image\n",
    "    inverted_img = cv2.bitwise_not(img)\n",
    "\n",
    "    # Save the inverted image to a new file\n",
    "    output_path = 'inverted_image.png'\n",
    "    cv2.imwrite(output_path, inverted_img)\n",
    "\n",
    "    print(f\"Inverted image saved as {output_path}\")"
   ]
  },
  {
   "cell_type": "markdown",
   "metadata": {},
   "source": [
    "# 2. Rescalling"
   ]
  },
  {
   "cell_type": "code",
   "execution_count": 4,
   "metadata": {},
   "outputs": [
    {
     "name": "stdout",
     "output_type": "stream",
     "text": [
      "Rescaled image saved as rescaled_image.png\n"
     ]
    }
   ],
   "source": [
    "def rescale_image(image_path, output_path, scale_percent):\n",
    "    # Read the image from file\n",
    "    img = cv2.imread(image_path)\n",
    "    \n",
    "    if img is None:\n",
    "        print(\"Error: Image could not be loaded.\")\n",
    "        return\n",
    "    \n",
    "    # Calculate new dimensions\n",
    "    width = int(img.shape[1] * scale_percent / 100)\n",
    "    height = int(img.shape[0] * scale_percent / 100)\n",
    "    new_dim = (width, height)\n",
    "    \n",
    "    # Resize image\n",
    "    resized_img = cv2.resize(img, new_dim, interpolation=cv2.INTER_CUBIC)\n",
    "    \n",
    "    # Save the rescaled image\n",
    "    cv2.imwrite(output_path, resized_img)\n",
    "    print(f\"Rescaled image saved as {output_path}\")\n",
    "\n",
    "# Example usage\n",
    "image_path = '/Users/lengocbinh/Desktop/Koolsoft/OCR_Main/image/1.jpg'  # Replace with your image path\n",
    "output_path = 'rescaled_image.png'  # Replace with your desired output path\n",
    "current_dpi = 150  # Replace with the current DPI of your image\n",
    "desired_dpi = 300  # Tesseract works best with 300 DPI\n",
    "\n",
    "# Calculate the scale percent\n",
    "scale_percent = (desired_dpi / current_dpi) * 100\n",
    "\n",
    "rescale_image(image_path, output_path, scale_percent)"
   ]
  },
  {
   "cell_type": "markdown",
   "metadata": {},
   "source": [
    "# 3. Binarization"
   ]
  },
  {
   "cell_type": "code",
   "execution_count": 37,
   "metadata": {},
   "outputs": [
    {
     "data": {
      "text/plain": [
       "True"
      ]
     },
     "execution_count": 37,
     "metadata": {},
     "output_type": "execute_result"
    }
   ],
   "source": [
    "# Load the image in grayscale\n",
    "img = cv2.imread('/Users/lengocbinh/Desktop/Koolsoft/OCR_Main/image/2.jpg', cv2.IMREAD_GRAYSCALE)\n",
    "\n",
    "# Apply adaptive Gaussian thresholding\n",
    "adaptive_thresh_gaussian = cv2.adaptiveThreshold(\n",
    "    img, \n",
    "    255, \n",
    "    cv2.ADAPTIVE_THRESH_GAUSSIAN_C, \n",
    "    cv2.THRESH_BINARY, \n",
    "    11, \n",
    "    15\n",
    ")\n",
    "\n",
    "# Save the results to files\n",
    "cv2.imwrite('adaptive_gaussian_threshold_2.jpg', adaptive_thresh_gaussian)\n"
   ]
  },
  {
   "cell_type": "code",
   "execution_count": 22,
   "metadata": {},
   "outputs": [],
   "source": [
    "import cv2\n",
    "import pytesseract\n",
    "from PIL import Image\n",
    "\n",
    "# Load the image\n",
    "image_path = \"/Users/lengocbinh/Desktop/Koolsoft/OCR_Main/image/1.jpg\"\n",
    "image = cv2.imread(image_path)\n",
    "\n",
    "# Convert the image to RGB (OpenCV uses BGR by default)\n",
    "rgb_image = cv2.cvtColor(image, cv2.COLOR_BGR2RGB)\n",
    "\n",
    "# Perform OCR on the image\n",
    "h, w, _ = rgb_image.shape\n",
    "data = pytesseract.image_to_data(rgb_image, output_type=pytesseract.Output.DICT)\n",
    "\n",
    "# Initialize variables to hold line information\n",
    "current_line = -1\n",
    "line_boxes = []\n",
    "\n",
    "# Loop over each detected text item and group them by line\n",
    "for i in range(len(data['level'])):\n",
    "    line_number = data['line_num'][i]\n",
    "\n",
    "    if line_number != current_line:\n",
    "        # If we encounter a new line, draw the bounding box for the previous line\n",
    "        if line_boxes:\n",
    "            x_min = min([box[0] for box in line_boxes])\n",
    "            y_min = min([box[1] for box in line_boxes])\n",
    "            x_max = max([box[2] for box in line_boxes])\n",
    "            y_max = max([box[3] for box in line_boxes])\n",
    "            cv2.rectangle(image, (x_min, y_min), (x_max, y_max), (0, 255, 0), 2)\n",
    "            line_boxes = []\n",
    "\n",
    "        current_line = line_number\n",
    "\n",
    "    # Append the current box to the list for the current line\n",
    "    (x, y, width, height) = (data['left'][i], data['top'][i], data['width'][i], data['height'][i])\n",
    "    line_boxes.append((x, y, x + width, y + height))\n",
    "\n",
    "# Draw the bounding box for the last line\n",
    "if line_boxes:\n",
    "    x_min = min([box[0] for box in line_boxes])\n",
    "    y_min = min([box[1] for box in line_boxes])\n",
    "    x_max = max([box[2] for box in line_boxes])\n",
    "    y_max = max([box[3] for box in line_boxes])\n",
    "    cv2.rectangle(image, (x_min, y_min), (x_max, y_max), (0, 255, 0), 2)\n",
    "\n",
    "# Save the image with bounding boxes\n",
    "output_image_path = \"line_bounding_boxes.png\"\n",
    "cv2.imwrite(output_image_path, image)\n",
    "\n",
    "# Display the image\n",
    "Image.open(output_image_path).show()\n"
   ]
  },
  {
   "cell_type": "code",
   "execution_count": 23,
   "metadata": {},
   "outputs": [
    {
     "name": "stdout",
     "output_type": "stream",
     "text": [
      "Detected orientation: 0 degrees\n",
      "Detected script: 16.43\n",
      "No rotation needed. The image is already properly oriented.\n"
     ]
    }
   ],
   "source": [
    "import cv2\n",
    "import pytesseract\n",
    "from PIL import Image\n",
    "import numpy as np\n",
    "\n",
    "# Load the image\n",
    "image_path = \"/Users/lengocbinh/Desktop/Koolsoft/OCR_Main/image/1.jpg\"\n",
    "image = cv2.imread(image_path)\n",
    "\n",
    "# Convert the image to RGB (OpenCV uses BGR by default)\n",
    "rgb_image = cv2.cvtColor(image, cv2.COLOR_BGR2RGB)\n",
    "\n",
    "# Use Tesseract to find the orientation of the text\n",
    "osd = pytesseract.image_to_osd(rgb_image)\n",
    "angle = int(osd.split(\"\\n\")[2].split(\": \")[1])\n",
    "script = osd.split(\"\\n\")[3].split(\": \")[1]\n",
    "\n",
    "# Print the detected orientation and script\n",
    "print(f\"Detected orientation: {angle} degrees\")\n",
    "print(f\"Detected script: {script}\")\n",
    "\n",
    "# Deskew the image\n",
    "if angle != 0:\n",
    "    # Compute the rotation matrix\n",
    "    (h, w) = rgb_image.shape[:2]\n",
    "    center = (w // 2, h // 2)\n",
    "    M = cv2.getRotationMatrix2D(center, -angle, 1.0)\n",
    "\n",
    "    # Rotate the image to deskew it\n",
    "    deskewed_image = cv2.warpAffine(rgb_image, M, (w, h), flags=cv2.INTER_CUBIC, borderMode=cv2.BORDER_REPLICATE)\n",
    "\n",
    "    # Convert back to BGR for saving with OpenCV\n",
    "    deskewed_image_bgr = cv2.cvtColor(deskewed_image, cv2.COLOR_RGB2BGR)\n",
    "\n",
    "    # Save the deskewed image\n",
    "    output_image_path = \"deskewed_image.png\"\n",
    "    cv2.imwrite(output_image_path, deskewed_image_bgr)\n",
    "\n",
    "    # Display the deskewed image\n",
    "    Image.open(output_image_path).show()\n",
    "\n",
    "else:\n",
    "    print(\"No rotation needed. The image is already properly oriented.\")\n"
   ]
  }
 ],
 "metadata": {
  "kernelspec": {
   "display_name": "Python 3",
   "language": "python",
   "name": "python3"
  },
  "language_info": {
   "codemirror_mode": {
    "name": "ipython",
    "version": 3
   },
   "file_extension": ".py",
   "mimetype": "text/x-python",
   "name": "python",
   "nbconvert_exporter": "python",
   "pygments_lexer": "ipython3",
   "version": "3.10.9"
  }
 },
 "nbformat": 4,
 "nbformat_minor": 2
}
